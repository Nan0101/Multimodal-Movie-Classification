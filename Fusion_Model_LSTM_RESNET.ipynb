{
  "nbformat": 4,
  "nbformat_minor": 0,
  "metadata": {
    "colab": {
      "provenance": []
    },
    "kernelspec": {
      "name": "python3",
      "display_name": "Python 3"
    },
    "language_info": {
      "name": "python"
    }
  },
  "cells": [
    {
      "cell_type": "code",
      "source": [
        "import os\n",
        "import pandas as pd\n",
        "import numpy as np\n",
        "import torch\n",
        "import torch.nn as nn\n",
        "import torch.optim as optim\n",
        "from torch.utils.data import Dataset, DataLoader\n",
        "from sklearn.preprocessing import MultiLabelBinarizer\n",
        "from sklearn.metrics import accuracy_score, f1_score, multilabel_confusion_matrix\n",
        "import matplotlib.pyplot as plt\n",
        "import seaborn as sns\n",
        "from google.colab import drive\n",
        "from nltk.tokenize import word_tokenize\n",
        "from collections import Counter\n",
        "import nltk\n",
        "from tqdm import tqdm\n",
        "\n",
        "nltk.download('punkt')\n",
        "nltk.download('punkt_tab')\n",
        "\n",
        "# Mount Google Drive\n",
        "drive.mount('/content/drive', force_remount=True)\n",
        "import torch\n",
        "\n",
        "# Automatically use GPU if available\n",
        "device = torch.device(\"cuda\" if torch.cuda.is_available() else \"cpu\")\n",
        "\n",
        "print(f\"Using device: {device}\")\n",
        "\n",
        "# Load dataset and image embeddings\n",
        "file_path = '/content/drive/MyDrive/undersampled_movie_metadata.csv'\n",
        "df = pd.read_csv(file_path)\n",
        "image_embeddings = torch.load('/content/drive/MyDrive/poster_embeddings.pt')\n",
        "print(f\"Loaded tensor with shape: {image_embeddings.shape}\")"
      ],
      "metadata": {
        "colab": {
          "base_uri": "https://localhost:8080/"
        },
        "id": "bNq-OC3wpybX",
        "outputId": "664523ee-a393-47b3-e533-70878231575c"
      },
      "execution_count": 3,
      "outputs": [
        {
          "output_type": "stream",
          "name": "stderr",
          "text": [
            "[nltk_data] Downloading package punkt to /root/nltk_data...\n",
            "[nltk_data]   Unzipping tokenizers/punkt.zip.\n",
            "[nltk_data] Downloading package punkt_tab to /root/nltk_data...\n",
            "[nltk_data]   Unzipping tokenizers/punkt_tab.zip.\n"
          ]
        },
        {
          "output_type": "stream",
          "name": "stdout",
          "text": [
            "Mounted at /content/drive\n",
            "Using device: cpu\n"
          ]
        },
        {
          "output_type": "stream",
          "name": "stderr",
          "text": [
            "<ipython-input-3-73736930854c>:33: FutureWarning: You are using `torch.load` with `weights_only=False` (the current default value), which uses the default pickle module implicitly. It is possible to construct malicious pickle data which will execute arbitrary code during unpickling (See https://github.com/pytorch/pytorch/blob/main/SECURITY.md#untrusted-models for more details). In a future release, the default value for `weights_only` will be flipped to `True`. This limits the functions that could be executed during unpickling. Arbitrary objects will no longer be allowed to be loaded via this mode unless they are explicitly allowlisted by the user via `torch.serialization.add_safe_globals`. We recommend you start setting `weights_only=True` for any use case where you don't have full control of the loaded file. Please open an issue on GitHub for any issues related to this experimental feature.\n",
            "  image_embeddings = torch.load('/content/drive/MyDrive/poster_embeddings.pt')\n"
          ]
        },
        {
          "output_type": "stream",
          "name": "stdout",
          "text": [
            "Loaded tensor with shape: torch.Size([20530, 1280])\n"
          ]
        }
      ]
    },
    {
      "cell_type": "code",
      "source": [
        "# Combine title and overview for text data\n",
        "df['text'] = df['title'].fillna('') + ' ' + df['overview'].fillna('')\n",
        "\n",
        "# Define genre columns\n",
        "genre_columns = ['Drama', 'Comedy', 'Documentary', 'Romance', 'Action', 'Thriller',\n",
        "                 'Horror', 'Crime', 'Music', 'Animation', 'TV Movie', 'Family']\n",
        "for col in genre_columns:\n",
        "    df[col] = df[col].astype(int)\n",
        "\n",
        "# Split dataset\n",
        "from sklearn.model_selection import train_test_split\n",
        "train_df, temp_df = train_test_split(df, test_size=0.3, random_state=42)\n",
        "val_df, test_df = train_test_split(temp_df, test_size=0.5, random_state=42)\n",
        "print(f\"Train: {len(train_df)}, Val: {len(val_df)}, Test: {len(test_df)}\")\n",
        "\n",
        "# Build vocabulary\n",
        "def build_vocab(texts, min_freq=2):\n",
        "    all_tokens = [word_tokenize(text.lower()) for text in texts]\n",
        "    counter = Counter(token for tokens in all_tokens for token in tokens)\n",
        "    vocab = {word: idx + 2 for idx, (word, count) in enumerate(counter.items()) if count >= min_freq}\n",
        "    vocab['<pad>'] = 0\n",
        "    vocab['<unk>'] = 1\n",
        "    return vocab\n",
        "\n",
        "texts = train_df['text'].tolist()\n",
        "vocab = build_vocab(texts)\n",
        "print(f\"Vocabulary size: {len(vocab)}\")\n",
        "\n",
        "def text_pipeline(text, vocab, max_len=200):\n",
        "    tokens = word_tokenize(text.lower())\n",
        "    token_ids = [vocab.get(token, vocab['<unk>']) for token in tokens][:max_len]\n",
        "    padded = token_ids + [vocab['<pad>']] * (max_len - len(token_ids))\n",
        "    padded = [min(max(idx, 0), len(vocab) - 1) for idx in padded]\n",
        "    return torch.tensor(padded, dtype=torch.long)\n",
        "\n",
        "# Save vocab\n",
        "torch.save(vocab, '/content/drive/MyDrive/vocab.pt')\n",
        "\n",
        "# Split image embeddings\n",
        "train_embeddings = image_embeddings[:len(train_df)]\n",
        "val_embeddings = image_embeddings[len(train_df):len(train_df) + len(val_df)]\n",
        "test_embeddings = image_embeddings[len(train_df) + len(val_df):]"
      ],
      "metadata": {
        "colab": {
          "base_uri": "https://localhost:8080/"
        },
        "id": "sh299l_IqBzB",
        "outputId": "088e0cc3-1eea-460f-b561-cee5cc5f8350"
      },
      "execution_count": 4,
      "outputs": [
        {
          "output_type": "stream",
          "name": "stdout",
          "text": [
            "Train: 14371, Val: 3079, Test: 3080\n",
            "Vocabulary size: 23954\n"
          ]
        }
      ]
    },
    {
      "cell_type": "code",
      "source": [
        "class TextModel(nn.Module):\n",
        "    def __init__(self, vocab_size, embedding_dim, hidden_dim, num_classes):\n",
        "        super(TextModel, self).__init__()\n",
        "        self.embedding = nn.Embedding(vocab_size, embedding_dim, padding_idx=0)\n",
        "        self.lstm = nn.LSTM(embedding_dim, hidden_dim, batch_first=True, num_layers=2, dropout=0.3)\n",
        "        self.fc = nn.Linear(hidden_dim, num_classes)\n",
        "\n",
        "    def forward(self, x):\n",
        "        x = self.embedding(x)\n",
        "        _, (h_n, _) = self.lstm(x)\n",
        "        features = h_n[-1]\n",
        "        x = self.fc(features)\n",
        "        return x\n",
        "\n",
        "    def get_features(self, x):\n",
        "        x = self.embedding(x)\n",
        "        _, (h_n, _) = self.lstm(x)\n",
        "        return h_n[-1]\n",
        "\n",
        "# Hyperparameters\n",
        "vocab_size = len(vocab)\n",
        "embedding_dim = 128\n",
        "hidden_dim = 256\n",
        "num_classes = len(genre_columns)\n",
        "\n",
        "# Initialize text model\n",
        "text_model = TextModel(vocab_size, embedding_dim, hidden_dim, num_classes).to(device)\n",
        "# Verify trainable parameters\n",
        "for name, param in text_model.named_parameters():\n",
        "    assert param.requires_grad, f\"Parameter {name} does not require gradients!\""
      ],
      "metadata": {
        "id": "zoF9NELuqH7f"
      },
      "execution_count": 7,
      "outputs": []
    },
    {
      "cell_type": "markdown",
      "source": [
        "USING EMBEDDINGS GENERATED in IMAGE MODEL"
      ],
      "metadata": {
        "id": "QWpZFBqXAXNX"
      }
    },
    {
      "cell_type": "code",
      "source": [
        "class RESNET_18(nn.Module):\n",
        "    def __init__(self, embedding_dim, num_classes):\n",
        "        super(RESNET_18, self).__init__()\n",
        "        self.fc = nn.Linear(embedding_dim, num_classes)\n",
        "\n",
        "    def forward(self, x):\n",
        "        return self.fc(x)\n",
        "\n",
        "    def get_features(self, x):\n",
        "        return x\n",
        "\n",
        "# Initialize image model\n",
        "image_model = RESNET_18(1280, num_classes).to(device)\n",
        "# Verify trainable parameters\n",
        "for name, param in image_model.named_parameters():\n",
        "    assert param.requires_grad, f\"Parameter {name} does not require gradients!\""
      ],
      "metadata": {
        "id": "UIh2u_nRqNC3"
      },
      "execution_count": 9,
      "outputs": []
    },
    {
      "cell_type": "code",
      "source": [
        "class FusionModel(nn.Module):\n",
        "    def __init__(self, text_model, image_model, text_feature_size, image_feature_size, num_classes):\n",
        "        super(FusionModel, self).__init__()\n",
        "        self.text_model = text_model\n",
        "        self.image_model = image_model\n",
        "        self.fusion_layer = nn.Linear(text_feature_size + image_feature_size, 512)\n",
        "        self.classifier = nn.Linear(512, num_classes)\n",
        "        self.relu = nn.ReLU()\n",
        "        for param in self.text_model.parameters():\n",
        "            param.requires_grad = False\n",
        "        for param in self.image_model.parameters():\n",
        "            param.requires_grad = False\n",
        "\n",
        "    def forward(self, text_input, image_input):\n",
        "        text_features = self.text_model.get_features(text_input)\n",
        "        image_features = self.image_model.get_features(image_input)\n",
        "        fused_features = torch.cat((text_features, image_features), dim=1)\n",
        "        fused_features = self.fusion_layer(fused_features)\n",
        "        fused_features = self.relu(fused_features)\n",
        "        output = self.classifier(fused_features)\n",
        "        return output"
      ],
      "metadata": {
        "id": "bW9UrTIvqPR2"
      },
      "execution_count": 20,
      "outputs": []
    },
    {
      "cell_type": "code",
      "source": [
        "class TextImageDataset(Dataset):\n",
        "    def __init__(self, df, embeddings, vocab, genre_columns):\n",
        "        self.texts = df['text'].tolist()\n",
        "        self.embeddings = embeddings\n",
        "        self.labels = df[genre_columns].values\n",
        "        self.vocab = vocab\n",
        "\n",
        "    def __len__(self):\n",
        "        return len(self.texts)\n",
        "\n",
        "    def __getitem__(self, idx):\n",
        "        text = text_pipeline(self.texts[idx], self.vocab)\n",
        "        if text.max() >= len(self.vocab) or text.min() < 0:\n",
        "            raise ValueError(f\"Invalid index detected: max={text.max()}, min={text.min()}\")\n",
        "        embedding = self.embeddings[idx]\n",
        "        label = torch.tensor(self.labels[idx], dtype=torch.float)\n",
        "        return text, embedding, label\n",
        "\n",
        "# Create datasets\n",
        "train_dataset = TextImageDataset(train_df, train_embeddings, vocab, genre_columns)\n",
        "val_dataset = TextImageDataset(val_df, val_embeddings, vocab, genre_columns)\n",
        "test_dataset = TextImageDataset(test_df, test_embeddings, vocab, genre_columns)\n",
        "\n",
        "# Create data loaders\n",
        "batch_size = 32\n",
        "train_loader = DataLoader(train_dataset, batch_size=batch_size, shuffle=True)\n",
        "val_loader = DataLoader(val_dataset, batch_size=batch_size)\n",
        "test_loader = DataLoader(test_dataset, batch_size=batch_size)"
      ],
      "metadata": {
        "id": "tbhis7zXqU9Y"
      },
      "execution_count": 21,
      "outputs": []
    },
    {
      "cell_type": "code",
      "source": [
        "# Training function\n",
        "def train_model(model, loader, criterion, optimizer, num_epochs, is_fusion=False):\n",
        "    train_losses = []\n",
        "    for epoch in range(num_epochs):\n",
        "        model.train()\n",
        "        running_loss = 0.0\n",
        "        for batch in tqdm(loader, desc=f\"Epoch {epoch+1}\"):\n",
        "            if is_fusion:\n",
        "                texts, embeddings, labels = batch\n",
        "                texts, embeddings, labels = texts.to(device), embeddings.to(device), labels.to(device)\n",
        "                outputs = model(texts, embeddings)\n",
        "            elif isinstance(model, TextModel):\n",
        "                texts, _, labels = batch\n",
        "                texts, labels = texts.to(device), labels.to(device)\n",
        "                outputs = model(texts)\n",
        "            elif isinstance(model, RESNET_18):\n",
        "                _, embeddings, labels = batch\n",
        "                embeddings, labels = embeddings.to(device), labels.to(device)\n",
        "                outputs = model(embeddings)\n",
        "            optimizer.zero_grad()\n",
        "            loss = criterion(outputs, labels)\n",
        "            loss.backward()\n",
        "            optimizer.step()\n",
        "            running_loss += loss.item()\n",
        "        train_loss = running_loss / len(loader)\n",
        "        train_losses.append(train_loss)\n",
        "        print(f\"Epoch {epoch+1}, Train Loss: {train_loss:.4f}\")\n",
        "    return train_losses\n",
        "\n",
        "# Evaluation function\n",
        "def evaluate_model(model, loader, is_fusion=False):\n",
        "    model.eval()\n",
        "    all_preds, all_labels = [], []\n",
        "    with torch.no_grad():\n",
        "        for batch in loader:\n",
        "            if is_fusion:\n",
        "                texts, embeddings, label = batch\n",
        "                texts, embeddings, label = texts.to(device), embeddings.to(device), label.to(device)\n",
        "                outputs = model(texts, embeddings)\n",
        "            elif isinstance(model, TextModel):\n",
        "                texts, _, label = batch\n",
        "                texts, label = texts.to(device), label.to(device)\n",
        "                outputs = model(texts)\n",
        "            else:\n",
        "                _, embeddings, label = batch\n",
        "                embeddings, label = embeddings.to(device), label.to(device)\n",
        "                outputs = model(embeddings)\n",
        "            preds = (outputs > 0).float().cpu().numpy()\n",
        "            all_preds.append(preds)\n",
        "            all_labels.append(label.cpu().numpy())\n",
        "    all_preds = np.vstack(all_preds)\n",
        "    all_labels = np.vstack(all_labels)\n",
        "    f1 = f1_score(all_labels, all_preds, average='micro')\n",
        "    accuracy = accuracy_score(all_labels, all_preds)\n",
        "    cm = multilabel_confusion_matrix(all_labels, all_preds)\n",
        "    return f1, accuracy, cm\n",
        "\n",
        "# Plot confusion matrix\n",
        "def plot_confusion_matrix(cm, title):\n",
        "    plt.figure(figsize=(10, 8))\n",
        "    sns.heatmap(cm.mean(axis=0), annot=True, fmt='.2f', cmap='Blues')\n",
        "    plt.title(title)\n",
        "    plt.ylabel('True Label')\n",
        "    plt.xlabel('Predicted Label')\n",
        "    plt.savefig(f'/content/drive/MyDrive/Datasets/{title.replace(\" \", \"_\")}.png')\n",
        "    plt.close()\n",
        "\n",
        "# Train and evaluate models\n",
        "criterion = nn.BCEWithLogitsLoss()\n",
        "\n",
        "print(\"Training Text Model...\")\n",
        "text_optimizer = optim.AdamW(text_model.parameters(), lr=0.001)\n",
        "text_train_losses = train_model(text_model, train_loader, criterion, text_optimizer, 10)\n",
        "text_f1, text_accuracy, text_cm = evaluate_model(text_model, test_loader)\n",
        "print(f\"Text-Only - F1: {text_f1:.4f}, Accuracy: {text_accuracy:.4f}\")\n",
        "plot_confusion_matrix(text_cm, 'Text-Only Confusion Matrix')\n",
        "\n",
        "print(\"Training Image Model...\")\n",
        "image_optimizer = optim.AdamW(image_model.parameters(), lr=0.0001)\n",
        "image_train_losses = train_model(image_model, train_loader, criterion, image_optimizer, 10)\n",
        "image_f1, image_accuracy, image_cm = evaluate_model(image_model, test_loader)\n",
        "print(f\"Image-Only - F1: {image_f1:.4f}, Accuracy: {image_accuracy:.4f}\")\n",
        "plot_confusion_matrix(image_cm, 'Image-Only Confusion Matrix')\n",
        "\n",
        "# Initialize fusion model after training text and image models\n",
        "fusion_model = FusionModel(text_model, image_model, hidden_dim, 1280, num_classes).to(device)\n",
        "\n",
        "print(\"Training Fusion Model...\")\n",
        "fusion_optimizer = optim.AdamW(fusion_model.parameters(), lr=0.0001)\n",
        "fusion_train_losses = train_model(fusion_model, train_loader, criterion, fusion_optimizer, 10, is_fusion=True)\n",
        "fusion_f1, fusion_accuracy, fusion_cm = evaluate_model(fusion_model, test_loader, is_fusion=True)\n",
        "print(f\"Fusion Model - F1: {fusion_f1:.4f}, Accuracy: {fusion_accuracy:.4f}\")\n",
        "plot_confusion_matrix(fusion_cm, 'Fusion Confusion Matrix')\n",
        "\n",
        "# Plot training losses\n",
        "plt.figure(figsize=(12, 5))\n",
        "plt.plot(text_train_losses, label='Text Model')\n",
        "plt.plot(image_train_losses, label='Image Model')\n",
        "plt.plot(fusion_train_losses, label='Fusion Model')\n",
        "plt.xlabel('Epoch')\n",
        "plt.ylabel('Loss')\n",
        "plt.title('Training Loss Curves')\n",
        "plt.legend()\n",
        "plt.savefig('/content/drive/MyDrive/Datasets/training_losses.png')\n",
        "plt.show()"
      ],
      "metadata": {
        "colab": {
          "base_uri": "https://localhost:8080/",
          "height": 1000
        },
        "id": "R5S_VrEwzmGJ",
        "outputId": "800b6c03-9b9d-456f-9417-b8bb00d6372d"
      },
      "execution_count": 13,
      "outputs": [
        {
          "output_type": "stream",
          "name": "stdout",
          "text": [
            "Training Text Model...\n"
          ]
        },
        {
          "output_type": "stream",
          "name": "stderr",
          "text": [
            "Epoch 1: 100%|██████████| 450/450 [00:16<00:00, 27.61it/s]\n"
          ]
        },
        {
          "output_type": "stream",
          "name": "stdout",
          "text": [
            "Epoch 1, Train Loss: 0.3789\n"
          ]
        },
        {
          "output_type": "stream",
          "name": "stderr",
          "text": [
            "Epoch 2: 100%|██████████| 450/450 [00:15<00:00, 28.36it/s]\n"
          ]
        },
        {
          "output_type": "stream",
          "name": "stdout",
          "text": [
            "Epoch 2, Train Loss: 0.3596\n"
          ]
        },
        {
          "output_type": "stream",
          "name": "stderr",
          "text": [
            "Epoch 3: 100%|██████████| 450/450 [00:15<00:00, 28.29it/s]\n"
          ]
        },
        {
          "output_type": "stream",
          "name": "stdout",
          "text": [
            "Epoch 3, Train Loss: 0.3370\n"
          ]
        },
        {
          "output_type": "stream",
          "name": "stderr",
          "text": [
            "Epoch 4: 100%|██████████| 450/450 [00:15<00:00, 28.51it/s]\n"
          ]
        },
        {
          "output_type": "stream",
          "name": "stdout",
          "text": [
            "Epoch 4, Train Loss: 0.3170\n"
          ]
        },
        {
          "output_type": "stream",
          "name": "stderr",
          "text": [
            "Epoch 5: 100%|██████████| 450/450 [00:17<00:00, 26.09it/s]\n"
          ]
        },
        {
          "output_type": "stream",
          "name": "stdout",
          "text": [
            "Epoch 5, Train Loss: 0.2995\n"
          ]
        },
        {
          "output_type": "stream",
          "name": "stderr",
          "text": [
            "Epoch 6: 100%|██████████| 450/450 [00:17<00:00, 25.92it/s]\n"
          ]
        },
        {
          "output_type": "stream",
          "name": "stdout",
          "text": [
            "Epoch 6, Train Loss: 0.2845\n"
          ]
        },
        {
          "output_type": "stream",
          "name": "stderr",
          "text": [
            "Epoch 7: 100%|██████████| 450/450 [00:16<00:00, 28.10it/s]\n"
          ]
        },
        {
          "output_type": "stream",
          "name": "stdout",
          "text": [
            "Epoch 7, Train Loss: 0.2704\n"
          ]
        },
        {
          "output_type": "stream",
          "name": "stderr",
          "text": [
            "Epoch 8: 100%|██████████| 450/450 [00:15<00:00, 28.16it/s]\n"
          ]
        },
        {
          "output_type": "stream",
          "name": "stdout",
          "text": [
            "Epoch 8, Train Loss: 0.2579\n"
          ]
        },
        {
          "output_type": "stream",
          "name": "stderr",
          "text": [
            "Epoch 9: 100%|██████████| 450/450 [00:16<00:00, 26.94it/s]\n"
          ]
        },
        {
          "output_type": "stream",
          "name": "stdout",
          "text": [
            "Epoch 9, Train Loss: 0.2452\n"
          ]
        },
        {
          "output_type": "stream",
          "name": "stderr",
          "text": [
            "Epoch 10: 100%|██████████| 450/450 [00:15<00:00, 28.28it/s]\n"
          ]
        },
        {
          "output_type": "stream",
          "name": "stdout",
          "text": [
            "Epoch 10, Train Loss: 0.2329\n",
            "Text-Only - F1: 0.4520, Accuracy: 0.1581\n",
            "Training Image Model...\n"
          ]
        },
        {
          "output_type": "stream",
          "name": "stderr",
          "text": [
            "Epoch 1: 100%|██████████| 450/450 [00:08<00:00, 52.45it/s]\n"
          ]
        },
        {
          "output_type": "stream",
          "name": "stdout",
          "text": [
            "Epoch 1, Train Loss: 0.4699\n"
          ]
        },
        {
          "output_type": "stream",
          "name": "stderr",
          "text": [
            "Epoch 2: 100%|██████████| 450/450 [00:07<00:00, 61.09it/s]\n"
          ]
        },
        {
          "output_type": "stream",
          "name": "stdout",
          "text": [
            "Epoch 2, Train Loss: 0.4500\n"
          ]
        },
        {
          "output_type": "stream",
          "name": "stderr",
          "text": [
            "Epoch 3: 100%|██████████| 450/450 [00:09<00:00, 49.28it/s]\n"
          ]
        },
        {
          "output_type": "stream",
          "name": "stdout",
          "text": [
            "Epoch 3, Train Loss: 0.4496\n"
          ]
        },
        {
          "output_type": "stream",
          "name": "stderr",
          "text": [
            "Epoch 4: 100%|██████████| 450/450 [00:07<00:00, 56.37it/s]\n"
          ]
        },
        {
          "output_type": "stream",
          "name": "stdout",
          "text": [
            "Epoch 4, Train Loss: 0.4497\n"
          ]
        },
        {
          "output_type": "stream",
          "name": "stderr",
          "text": [
            "Epoch 5: 100%|██████████| 450/450 [00:07<00:00, 56.53it/s]\n"
          ]
        },
        {
          "output_type": "stream",
          "name": "stdout",
          "text": [
            "Epoch 5, Train Loss: 0.4494\n"
          ]
        },
        {
          "output_type": "stream",
          "name": "stderr",
          "text": [
            "Epoch 6: 100%|██████████| 450/450 [00:08<00:00, 52.12it/s]\n"
          ]
        },
        {
          "output_type": "stream",
          "name": "stdout",
          "text": [
            "Epoch 6, Train Loss: 0.4497\n"
          ]
        },
        {
          "output_type": "stream",
          "name": "stderr",
          "text": [
            "Epoch 7: 100%|██████████| 450/450 [00:07<00:00, 58.20it/s]\n"
          ]
        },
        {
          "output_type": "stream",
          "name": "stdout",
          "text": [
            "Epoch 7, Train Loss: 0.4495\n"
          ]
        },
        {
          "output_type": "stream",
          "name": "stderr",
          "text": [
            "Epoch 8: 100%|██████████| 450/450 [00:08<00:00, 52.23it/s]\n"
          ]
        },
        {
          "output_type": "stream",
          "name": "stdout",
          "text": [
            "Epoch 8, Train Loss: 0.4494\n"
          ]
        },
        {
          "output_type": "stream",
          "name": "stderr",
          "text": [
            "Epoch 9: 100%|██████████| 450/450 [00:08<00:00, 51.75it/s]\n"
          ]
        },
        {
          "output_type": "stream",
          "name": "stdout",
          "text": [
            "Epoch 9, Train Loss: 0.4497\n"
          ]
        },
        {
          "output_type": "stream",
          "name": "stderr",
          "text": [
            "Epoch 10: 100%|██████████| 450/450 [00:08<00:00, 55.48it/s]\n"
          ]
        },
        {
          "output_type": "stream",
          "name": "stdout",
          "text": [
            "Epoch 10, Train Loss: 0.4495\n",
            "Image-Only - F1: 0.0000, Accuracy: 0.0000\n",
            "Training Fusion Model...\n"
          ]
        },
        {
          "output_type": "stream",
          "name": "stderr",
          "text": [
            "Epoch 1: 100%|██████████| 450/450 [00:14<00:00, 31.31it/s]\n"
          ]
        },
        {
          "output_type": "stream",
          "name": "stdout",
          "text": [
            "Epoch 1, Train Loss: 0.3390\n"
          ]
        },
        {
          "output_type": "stream",
          "name": "stderr",
          "text": [
            "Epoch 2: 100%|██████████| 450/450 [00:13<00:00, 34.01it/s]\n"
          ]
        },
        {
          "output_type": "stream",
          "name": "stdout",
          "text": [
            "Epoch 2, Train Loss: 0.2446\n"
          ]
        },
        {
          "output_type": "stream",
          "name": "stderr",
          "text": [
            "Epoch 3: 100%|██████████| 450/450 [00:12<00:00, 35.57it/s]\n"
          ]
        },
        {
          "output_type": "stream",
          "name": "stdout",
          "text": [
            "Epoch 3, Train Loss: 0.2317\n"
          ]
        },
        {
          "output_type": "stream",
          "name": "stderr",
          "text": [
            "Epoch 4: 100%|██████████| 450/450 [00:12<00:00, 35.78it/s]\n"
          ]
        },
        {
          "output_type": "stream",
          "name": "stdout",
          "text": [
            "Epoch 4, Train Loss: 0.2262\n"
          ]
        },
        {
          "output_type": "stream",
          "name": "stderr",
          "text": [
            "Epoch 5: 100%|██████████| 450/450 [00:12<00:00, 35.84it/s]\n"
          ]
        },
        {
          "output_type": "stream",
          "name": "stdout",
          "text": [
            "Epoch 5, Train Loss: 0.2232\n"
          ]
        },
        {
          "output_type": "stream",
          "name": "stderr",
          "text": [
            "Epoch 6: 100%|██████████| 450/450 [00:12<00:00, 35.86it/s]\n"
          ]
        },
        {
          "output_type": "stream",
          "name": "stdout",
          "text": [
            "Epoch 6, Train Loss: 0.2213\n"
          ]
        },
        {
          "output_type": "stream",
          "name": "stderr",
          "text": [
            "Epoch 7: 100%|██████████| 450/450 [00:12<00:00, 34.99it/s]\n"
          ]
        },
        {
          "output_type": "stream",
          "name": "stdout",
          "text": [
            "Epoch 7, Train Loss: 0.2200\n"
          ]
        },
        {
          "output_type": "stream",
          "name": "stderr",
          "text": [
            "Epoch 8: 100%|██████████| 450/450 [00:12<00:00, 35.96it/s]\n"
          ]
        },
        {
          "output_type": "stream",
          "name": "stdout",
          "text": [
            "Epoch 8, Train Loss: 0.2186\n"
          ]
        },
        {
          "output_type": "stream",
          "name": "stderr",
          "text": [
            "Epoch 9: 100%|██████████| 450/450 [00:12<00:00, 35.81it/s]\n"
          ]
        },
        {
          "output_type": "stream",
          "name": "stdout",
          "text": [
            "Epoch 9, Train Loss: 0.2180\n"
          ]
        },
        {
          "output_type": "stream",
          "name": "stderr",
          "text": [
            "Epoch 10: 100%|██████████| 450/450 [00:12<00:00, 35.07it/s]\n"
          ]
        },
        {
          "output_type": "stream",
          "name": "stdout",
          "text": [
            "Epoch 10, Train Loss: 0.2177\n",
            "Fusion Model - F1: 0.4609, Accuracy: 0.1679\n"
          ]
        },
        {
          "output_type": "display_data",
          "data": {
            "text/plain": [
              "<Figure size 1200x500 with 1 Axes>"
            ],
            "image/png": "[encoded data removed]"
          },
          "metadata": {}
        }
      ]
    }
  ]
}